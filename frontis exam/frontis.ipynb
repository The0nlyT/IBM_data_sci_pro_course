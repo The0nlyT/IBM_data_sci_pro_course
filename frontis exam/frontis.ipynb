{
 "cells": [
  {
   "cell_type": "markdown",
   "id": "7bc3f6e5-c0f8-451f-9345-e27fd9105486",
   "metadata": {},
   "source": [
    "# Python exercise"
   ]
  },
  {
   "cell_type": "markdown",
   "id": "ee89f394-b319-41df-b0a2-fa3098eb9d25",
   "metadata": {},
   "source": [
    "คำอธิบาย เขียนโปรแกรมตามโจทย์ที่ได้รับ โดยแยกเป็น 1 python file ต่อโจทย์ 1 ข้อ"
   ]
  },
  {
   "cell_type": "markdown",
   "id": "aceaf1d5-e875-4542-8086-9e6fd49a9934",
   "metadata": {},
   "source": [
    "1.\tเขียนโปรแกรมเพื่อรับ input เป็น string และแสดงผลเป็น string นั้นในลำดับที่กลับกัน เช่น\n",
    "input: HELLO\n",
    "output: OLLEH"
   ]
  },
  {
   "cell_type": "code",
   "execution_count": 3,
   "id": "3137f2b8-4755-466f-b93a-ae7f03573b01",
   "metadata": {},
   "outputs": [
    {
     "name": "stdin",
     "output_type": "stream",
     "text": [
      "enter a string:  HELLO\n"
     ]
    },
    {
     "name": "stdout",
     "output_type": "stream",
     "text": [
      "reversed string: H\n"
     ]
    }
   ],
   "source": [
    "# function to reverse string\n",
    "def reverse_string(input_string):\n",
    "    return input_string[::-1]\n",
    "\n",
    "# get input from user\n",
    "input_str = input(\"enter a string: \")\n",
    "\n",
    "# print the reverse string\n",
    "print(\"reversed string:\", reverse_string(input_str))"
   ]
  },
  {
   "cell_type": "markdown",
   "id": "973ed458-f17f-414c-b1bc-701b1ec555fc",
   "metadata": {},
   "source": [
    "**explaination**  \n",
    "This is done with slicing to create sub array. There are 3 parameter for slicing which are array[start:stop:step].\n",
    "- start is index at which the slice begin. In this case, it start from zero as it blank.\n",
    "- stop is index which the slide end (not inclusive). In this case, it stop at last index as it blank.\n",
    "- step is increment of each index in slice. In this case, it gone backward as its value is -1."
   ]
  },
  {
   "cell_type": "markdown",
   "id": "7627e646-5532-4b0d-989f-3a7571791869",
   "metadata": {},
   "source": [
    "2.\tเขียนโปรแกรมเพื่อคำนวณลำดับฟิโบนัคชี (Fibonacci) โดยรับ input เป็นจำนวนของลำดับและแสดงผลตามจำนวนนั้น (เริ่มนับจาก 0) เช่น\n",
    "input: 5\n",
    "output: 0, 1, 1, 2, 3\n",
    "\n",
    "    *หมายเหตุ*  \n",
    "    *(1) ลำดับฟิโบนัคชีสามารถคำนวณได้จากสูตร Fn = Fn-1 + Fn-2 โดย F0 = 0 และ F1 = 1*  \n",
    "    *(2) ข้อนี้มีคะแนนพิเศษสำหรับการเขียนโปรแกรมแบบ recursive function*"
   ]
  },
  {
   "cell_type": "code",
   "execution_count": 5,
   "id": "059c48df-082f-4f76-8d38-de7dd7136b64",
   "metadata": {},
   "outputs": [
    {
     "name": "stdin",
     "output_type": "stream",
     "text": [
      "Enter the length of Fibonacci array:  12\n"
     ]
    },
    {
     "name": "stdout",
     "output_type": "stream",
     "text": [
      "Fibonacci sequence: [0, 1, 1, 2, 3, 5, 8, 13, 21, 34, 55, 89]\n"
     ]
    }
   ],
   "source": [
    "# function to calculate Fibonacci number\n",
    "def fibonacci(n):\n",
    "    if n <= 0:\n",
    "        return 0\n",
    "    elif n == 1:\n",
    "        return 1\n",
    "    else:\n",
    "        return fibonacci(n - 1) + fibonacci(n - 2)\n",
    "\n",
    "# get input from the user\n",
    "n = int(input(\"Enter the length of Fibonacci array: \"))\n",
    "\n",
    "# generate Fibonacci sequence using recursion\n",
    "sequence = [fibonacci(i) for i in range(n)]\n",
    "\n",
    "# print the Fibonacci sequence\n",
    "print(\"Fibonacci sequence:\", sequence)"
   ]
  },
  {
   "cell_type": "markdown",
   "id": "f5e58846-ca3d-47fd-b28a-f37b7bca0724",
   "metadata": {},
   "source": [
    "**explaination**  \n",
    "Fibonacci function start with 0 and 1, then adding number from sum value from it previous 2 numbers. So I use recursive function to calculate value in each index."
   ]
  },
  {
   "attachments": {
    "0720eb19-b36b-4652-9889-784ca65f1f5c.png": {
     "image/png": "[encoded data removed]"
    }
   },
   "cell_type": "markdown",
   "id": "b2dddd7f-3063-4af3-8321-e1642f12537d",
   "metadata": {},
   "source": [
    "3.\tเขียนโปรแกรมเพื่อแสดงรูปแบบตามที่กำหนด โดยรับ input เป็นขนาดของ pattern เป็นจำนวนคี่ และแสดงผลเป็น pattern ที่สัมพันธ์กับขนาดที่ได้รับ เช่น\n",
    "![image.png](attachment:0720eb19-b36b-4652-9889-784ca65f1f5c.png)"
   ]
  },
  {
   "cell_type": "code",
   "execution_count": 3,
   "id": "84cfcf11-2a3a-41b3-982c-444fe49ac14e",
   "metadata": {},
   "outputs": [
    {
     "name": "stdin",
     "output_type": "stream",
     "text": [
      "enter the size of the pattern (odd number only):  9\n"
     ]
    },
    {
     "name": "stdout",
     "output_type": "stream",
     "text": [
      "*-------*\n",
      "-*-----*-\n",
      "--*---*--\n",
      "---*-*---\n",
      "----*----\n",
      "---*-*---\n",
      "--*---*--\n",
      "-*-----*-\n",
      "*-------*\n"
     ]
    }
   ],
   "source": [
    "# function to generate the star pattern\n",
    "def generate_pattern(n):\n",
    "    # loop through each row\n",
    "    for i in range(n):\n",
    "        row = \"\"\n",
    "        # loop through each column\n",
    "        for j in range(n):\n",
    "            # add '*' at diagonals index, else add '-'\n",
    "            if i == j or i == n - j - 1:\n",
    "                row += \"*\"\n",
    "            else:\n",
    "                row += \"-\"\n",
    "        # print each row\n",
    "        print(row)\n",
    "\n",
    "# get input from the user\n",
    "size = int(input(\"enter the size of the pattern (odd number only): \"))\n",
    "\n",
    "# print the star pattern\n",
    "generate_pattern(size)"
   ]
  },
  {
   "cell_type": "markdown",
   "id": "3763ea69-87ad-49b6-a6fe-8d939731f923",
   "metadata": {},
   "source": [
    "**explanation**  \n",
    "As the given pattern will print out star at both diagonals of a square. So I loop through each row and column. Then adding star at both diagonals index with \"i == j\" or \"i == n - j - 1\""
   ]
  },
  {
   "cell_type": "markdown",
   "id": "cd037a2b-867d-4071-8800-7d1c4d20eaa1",
   "metadata": {},
   "source": [
    "4.\tเขียนโปรแกรมเพื่อแสดงผลตัวอักษร A และ B โดยรับ input เป็นจำนวนของตัวอักษร A และ B จากนั้นแสดงผลตัวอักษรทั้งสองตามจำนวนที่ได้รับ โดย ห้ามไม่ให้มีการแสดงผลตัวอักษรเดียวกันซ้ำติดกันเกิน 2 ครั้ง และจะต้องใช้ตัวอักษรทั้งหมดให้ครบตามจำนวน เช่น\n",
    "input number of A: 5\n",
    "input number of B: 3\n",
    "output: AABABABA\n",
    "(ตัวอย่าง output ที่ผิด คือ AAABABAB)\n",
    "ถ้าไม่สามารถแสดงได้ตามเงื่อนไข ให้แสดงข้อความ error"
   ]
  },
  {
   "cell_type": "code",
   "execution_count": 9,
   "id": "47692153-e0a9-4dbb-a52d-274e67e72abe",
   "metadata": {},
   "outputs": [
    {
     "name": "stdin",
     "output_type": "stream",
     "text": [
      "input number of A:  6\n",
      "input number of B:  3\n"
     ]
    },
    {
     "name": "stdout",
     "output_type": "stream",
     "text": [
      "output: AABAABAAB\n"
     ]
    }
   ],
   "source": [
    "# function to generate sequence of A and B\n",
    "def generate_sequence(num_a, num_b):\n",
    "    # check if possible to generate output sequence without consecutive characters longer than 2\n",
    "    if num_a > 2 * (num_b + 1) or num_b > 2 * (num_a + 1):\n",
    "        return \"error\"\n",
    "\n",
    "    result = []\n",
    "    while num_a > 0 or num_b > 0:\n",
    "        # if number of unused A still more than or equal number of unused B, then add A\n",
    "        if num_a >= num_b:\n",
    "            # but if last 2 characters already AA, then B\n",
    "            if len(result) >= 2 and result[-1] == result[-2] == 'A':\n",
    "                result.append('B')\n",
    "                num_b -= 1\n",
    "            else:\n",
    "                result.append('A')\n",
    "                num_a -= 1\n",
    "        # if number of unused A still less than number of unused B, then add B\n",
    "        else:\n",
    "            # but if last 2 characters already BB, then A\n",
    "            if len(result) >= 2 and result[-1] == result[-2] == 'B':\n",
    "                result.append('A')\n",
    "                num_a -= 1\n",
    "            else:\n",
    "                result.append('B')\n",
    "                num_b -= 1\n",
    "\n",
    "    return ''.join(result)\n",
    "\n",
    "# get input from the user\n",
    "num_a = int(input(\"input number of A: \"))\n",
    "num_b = int(input(\"input number of B: \"))\n",
    "\n",
    "# print the result\n",
    "output = generate_ab_sequence(num_a, num_b)\n",
    "print(\"output:\", output)"
   ]
  },
  {
   "cell_type": "markdown",
   "id": "3f4158ea-396c-47ec-97de-5857da974a21",
   "metadata": {},
   "source": [
    "**explaination**  \n",
    "- In order to generate string that no consecutive character longer than 2, number of A and number of B need to be atleast more than half of each other. So I start function by check the this condition.\n",
    "- Then I start looping. Adding A or B to an array, depending on whether which one has more unused characters. After adding, number of unused character is updated. \n",
    "- Before adding character, I check wheter the last 2 characters already consecutive characters like AA or BB. If if already 2 consecutive characters, then I add the different character instead.\n",
    "- The looping will be finished when there are no more unused characters. Then return the result string."
   ]
  }
 ],
 "metadata": {
  "kernelspec": {
   "display_name": "Python",
   "language": "python",
   "name": "conda-env-python-py"
  },
  "language_info": {
   "codemirror_mode": {
    "name": "ipython",
    "version": 3
   },
   "file_extension": ".py",
   "mimetype": "text/x-python",
   "name": "python",
   "nbconvert_exporter": "python",
   "pygments_lexer": "ipython3",
   "version": "3.7.12"
  }
 },
 "nbformat": 4,
 "nbformat_minor": 5
}
